{
 "cells": [
  {
   "cell_type": "code",
   "execution_count": 1,
   "id": "77ac8198-63f2-4ea0-b45c-fc79c2eda682",
   "metadata": {},
   "outputs": [
    {
     "data": {
      "text/plain": [
       "'/home/gouzi/projects/stable-difussion-doge/notebooks'"
      ]
     },
     "execution_count": 1,
     "metadata": {},
     "output_type": "execute_result"
    }
   ],
   "source": [
    "import os\n",
    "os.getcwd()"
   ]
  },
  {
   "cell_type": "code",
   "execution_count": 15,
   "id": "e40db7d6-64c4-40c2-bdb3-3f4e6b4c8898",
   "metadata": {},
   "outputs": [],
   "source": [
    "import datetime\n",
    "import os\n",
    "import torch\n",
    "from diffusers.pipelines.stable_diffusion_3.pipeline_stable_diffusion_3 import StableDiffusion3Pipeline\n",
    "\n",
    "description = \"Illustration of an elegant woman in profile, her face partially obscured by shadows, in the style of Toshihiro Kawamoto and Kazumasa Nagai, in the style of Eiko Ojala, minimalism, simple shapes, monochrome background, flat illustration, black and white, vintage style, low light, dark background, sharp focus, centered composition, high contrast, soft lighting, beautiful, elegant, cinematic. --ar 3:4 --p  --sref 2271873658  --v 6.1\"\n",
    "save_path = f\"/home/gouzi/projects/stable-difussion-doge/tmp/{datetime.datetime.now().strftime('%Y%m%d-%H%M%S')}.jpg\"\n",
    "\n",
    "\n",
    "def gen_pic(description, save_path):\n",
    "    model_id = \"stabilityai/stable-diffusion-3.5-medium\"\n",
    "    \n",
    "    pipeline = StableDiffusion3Pipeline.from_pretrained(\n",
    "        model_id, \n",
    "        torch_dtype=torch.bfloat16,\n",
    "        token=os.getenv(\"HUGGINGFACE_TOKEN\", \"\"),\n",
    "    )\n",
    "\n",
    "    pipeline.to(\"cuda\")\n",
    "    print(f\"success too cuda\")\n",
    "\n",
    "    image = pipeline(description).images[0]\n",
    "    print(f\"sucess get image {image}\")\n",
    "\n",
    "    try:\n",
    "        image.save(save_path)\n",
    "    except Exception as e:\n",
    "        print(e)\n",
    "    return image"
   ]
  },
  {
   "cell_type": "code",
   "execution_count": null,
   "id": "821a814b-2f3d-4668-aad4-4855720fe073",
   "metadata": {},
   "outputs": [
    {
     "data": {
      "application/vnd.jupyter.widget-view+json": {
       "model_id": "b36d6b36e77747489d5da53dfe1f87ad",
       "version_major": 2,
       "version_minor": 0
      },
      "text/plain": [
       "Loading pipeline components...:   0%|          | 0/9 [00:00<?, ?it/s]"
      ]
     },
     "metadata": {},
     "output_type": "display_data"
    },
    {
     "data": {
      "application/vnd.jupyter.widget-view+json": {
       "model_id": "bcad9266b88144f9b10cfc36212ae3c8",
       "version_major": 2,
       "version_minor": 0
      },
      "text/plain": [
       "Loading checkpoint shards:   0%|          | 0/2 [00:00<?, ?it/s]"
      ]
     },
     "metadata": {},
     "output_type": "display_data"
    },
    {
     "name": "stderr",
     "output_type": "stream",
     "text": [
      "Token indices sequence length is longer than the specified maximum sequence length for this model (109 > 77). Running this sequence through the model will result in indexing errors\n",
      "The following part of your input was truncated because CLIP can only handle sequences up to 77 tokens: [', beautiful, elegant, cinematic. -- ar 3 : 4 -- p -- sref 2 2 7 1 8 7 3 6 5 8 -- v 6. 1']\n",
      "Token indices sequence length is longer than the specified maximum sequence length for this model (109 > 77). Running this sequence through the model will result in indexing errors\n",
      "The following part of your input was truncated because CLIP can only handle sequences up to 77 tokens: [', beautiful, elegant, cinematic. -- ar 3 : 4 -- p -- sref 2 2 7 1 8 7 3 6 5 8 -- v 6. 1']\n"
     ]
    },
    {
     "name": "stdout",
     "output_type": "stream",
     "text": [
      "success too cuda\n"
     ]
    },
    {
     "data": {
      "application/vnd.jupyter.widget-view+json": {
       "model_id": "dae5577fffd04ed19b797908863f9c4e",
       "version_major": 2,
       "version_minor": 0
      },
      "text/plain": [
       "  0%|          | 0/28 [00:00<?, ?it/s]"
      ]
     },
     "metadata": {},
     "output_type": "display_data"
    }
   ],
   "source": [
    "image = gen_pic(description, save_path)"
   ]
  },
  {
   "cell_type": "code",
   "execution_count": 14,
   "id": "fbb8adba-44da-4fa1-8d17-d1b0b698df0d",
   "metadata": {},
   "outputs": [],
   "source": [
    "image.save(save_path)"
   ]
  },
  {
   "cell_type": "code",
   "execution_count": null,
   "id": "067da502-88dc-4edf-9835-78e168358134",
   "metadata": {},
   "outputs": [],
   "source": []
  }
 ],
 "metadata": {
  "kernelspec": {
   "display_name": "Python 3 (ipykernel)",
   "language": "python",
   "name": "python3"
  },
  "language_info": {
   "codemirror_mode": {
    "name": "ipython",
    "version": 3
   },
   "file_extension": ".py",
   "mimetype": "text/x-python",
   "name": "python",
   "nbconvert_exporter": "python",
   "pygments_lexer": "ipython3",
   "version": "3.12.6"
  }
 },
 "nbformat": 4,
 "nbformat_minor": 5
}
